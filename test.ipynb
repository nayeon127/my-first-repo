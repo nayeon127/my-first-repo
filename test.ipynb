{
 "cells": [
  {
   "cell_type": "code",
   "execution_count": 29,
   "id": "d615ada6",
   "metadata": {},
   "outputs": [
    {
     "name": "stdout",
     "output_type": "stream",
     "text": [
      "shorts24.mp4 output/newnew_run.mp4\n",
      "<class 'str'> <class 'str'>\n",
      "run.mp4\n",
      "Ignoring empty camera frame.\n",
      "446\n"
     ]
    },
    {
     "name": "stderr",
     "output_type": "stream",
     "text": [
      "INFO: Created TensorFlow Lite XNNPACK delegate for CPU.\n",
      "OpenCV: FFMPEG: tag 0x5634504d/'MP4V' is not supported with codec id 12 and format 'mp4 / MP4 (MPEG-4 Part 14)'\n",
      "OpenCV: FFMPEG: fallback to use tag 0x7634706d/'mp4v'\n"
     ]
    }
   ],
   "source": [
    "!python main.py --source-path shorts24.mp4 --save-path output/newnew_run.mp4"
   ]
  },
  {
   "cell_type": "code",
   "execution_count": 1,
   "id": "fc941477",
   "metadata": {},
   "outputs": [
    {
     "name": "stderr",
     "output_type": "stream",
     "text": [
      "Cloning into 'yolov7'...\n",
      "Updating files:  71% (74/103)\n",
      "Updating files:  72% (75/103)\n",
      "Updating files:  73% (76/103)\n",
      "Updating files:  74% (77/103)\n",
      "Updating files:  75% (78/103)\n",
      "Updating files:  76% (79/103)\n",
      "Updating files:  77% (80/103)\n",
      "Updating files:  78% (81/103)\n",
      "Updating files:  79% (82/103)\n",
      "Updating files:  80% (83/103)\n",
      "Updating files:  81% (84/103)\n",
      "Updating files:  82% (85/103)\n",
      "Updating files:  83% (86/103)\n",
      "Updating files:  84% (87/103)\n",
      "Updating files:  85% (88/103)\n",
      "Updating files:  86% (89/103)\n",
      "Updating files:  87% (90/103)\n",
      "Updating files:  88% (91/103)\n",
      "Updating files:  89% (92/103)\n",
      "Updating files:  90% (93/103)\n",
      "Updating files:  91% (94/103)\n",
      "Updating files:  92% (95/103)\n",
      "Updating files:  93% (96/103)\n",
      "Updating files:  94% (97/103)\n",
      "Updating files:  95% (98/103)\n",
      "Updating files:  96% (99/103)\n",
      "Updating files:  97% (100/103)\n",
      "Updating files:  98% (101/103)\n",
      "Updating files:  99% (102/103)\n",
      "Updating files: 100% (103/103)\n",
      "Updating files: 100% (103/103), done.\n"
     ]
    }
   ],
   "source": [
    "!git clone https://github.com/WongKinYiu/yolov7"
   ]
  },
  {
   "cell_type": "code",
   "execution_count": null,
   "id": "eafa22e9",
   "metadata": {},
   "outputs": [],
   "source": [
    "!python detect2.py --source shorts24.mp4 --save-path run_24.mp4"
   ]
  },
  {
   "cell_type": "code",
   "execution_count": null,
   "id": "87f2009c",
   "metadata": {},
   "outputs": [],
   "source": [
    "                n161 = (eyes_df[eyes_df['idx']==161].x,eyes_df[eyes_df['idx']==161].y)\n",
    "                n163 = (eyes_df[eyes_df['idx']==163].x,eyes_df[eyes_df['idx']==163].y)\n",
    "                n154 = (eyes_df[eyes_df['idx']==154].x,eyes_df[eyes_df['idx']==154].y)\n",
    "                n157 = (eyes_df[eyes_df['idx']==157].x,eyes_df[eyes_df['idx']==157].y)\n",
    "                # right_ear = (abs(math.dist(n161,n163))+abs(math.dist(n157,n154)))/2*abs(math.dist(n133,n33))/1000\n",
    "                right_ear = (abs(distance(eyes_df[eyes_df['idx']==161].iloc[0].x,eyes_df[eyes_df['idx']==161].iloc[0].y,eyes_df[eyes_df['idx']==163].iloc[0].x,eyes_df[eyes_df['idx']==163].iloc[0].y))+\\\n",
    "                             abs(distance(eyes_df[eyes_df['idx']==157].iloc[0].x,eyes_df[eyes_df['idx']==157].iloc[0].y,eyes_df[eyes_df['idx']==154].iloc[0].x,eyes_df[eyes_df['idx']==154].iloc[0].y)))/2*\\\n",
    "                             abs(distance(eyes_df[eyes_df['idx']==133].iloc[0].x,eyes_df[eyes_df['idx']==133].iloc[0].y,eyes_df[eyes_df['idx']==33].iloc[0].x,eyes_df[eyes_df['idx']==33].iloc[0].y))/1000\n",
    "                # 왼쪽 눈 방향 (상하) : (|384-381|+|388-390|)/2*|263-362|*1/100\n",
    "                n381 = (eyes_df[eyes_df['idx']==381].x,eyes_df[eyes_df['idx']==381].y)\n",
    "                n384 = (eyes_df[eyes_df['idx']==384].x,eyes_df[eyes_df['idx']==384].y)\n",
    "                n388 = (eyes_df[eyes_df['idx']==388].x,eyes_df[eyes_df['idx']==388].y)\n",
    "                n390 = (eyes_df[eyes_df['idx']==390].x,eyes_df[eyes_df['idx']==390].y)\n",
    "                # left_ear = (abs(math.dist(n384,n381))+abs(math.dist(n388,n390)))/2*abs(math.dist(n263,n362))/1000\n",
    "                left_ear = (abs(distance(eyes_df[eyes_df['idx']==381].iloc[0].x,eyes_df[eyes_df['idx']==381].iloc[0].y,eyes_df[eyes_df['idx']==384].iloc[0].x,eyes_df[eyes_df['idx']==384].iloc[0].y))+\\\n",
    "                            abs(distance(eyes_df[eyes_df['idx']==388].iloc[0].x,eyes_df[eyes_df['idx']==388].iloc[0].y,eyes_df[eyes_df['idx']==390].iloc[0].x,eyes_df[eyes_df['idx']==390].iloc[0].y)))/2*\\\n",
    "                            abs(distance(eyes_df[eyes_df['idx']==263].iloc[0].x,eyes_df[eyes_df['idx']==263].iloc[0].y,eyes_df[eyes_df['idx']==362].iloc[0].x,eyes_df[eyes_df['idx']==362].iloc[0].y))/1000\n",
    "                # Right iris(468) z vs Left iris(473) z: higher value is closer camera."
   ]
  },
  {
   "cell_type": "code",
   "execution_count": null,
   "id": "4fa7100c",
   "metadata": {},
   "outputs": [],
   "source": [
    "                # dist_r = math.dist(n33,n133)\n",
    "                dist_r = distance(eyes_df[eyes_df['idx']==33].iloc[0].x,eyes_df[eyes_df['idx']==33].iloc[0].y,eyes_df[eyes_df['idx']==133].iloc[0].x,eyes_df[eyes_df['idx']==133].iloc[0].y)\n",
    "                \n",
    "                # 왼쪽 눈꺼풀의 각 끝 좌표와 길이\n",
    "                n263 = (eyes_df[eyes_df['idx']==263].x,eyes_df[eyes_df['idx']==263].y)\n",
    "                n362 = (eyes_df[eyes_df['idx']==362].x,eyes_df[eyes_df['idx']==362].y)\n",
    "                # dist_l = math.dist(n263,n362)\n",
    "                dist_l = distance(eyes_df[eyes_df['idx']==263].iloc[0].x,eyes_df[eyes_df['idx']==263].iloc[0].y,eyes_df[eyes_df['idx']==362].iloc[0].x,eyes_df[eyes_df['idx']==362].iloc[0].y)\n",
    "\n"
   ]
  }
 ],
 "metadata": {
  "kernelspec": {
   "display_name": "Python 3 (ipykernel)",
   "language": "python",
   "name": "python3"
  },
  "language_info": {
   "codemirror_mode": {
    "name": "ipython",
    "version": 3
   },
   "file_extension": ".py",
   "mimetype": "text/x-python",
   "name": "python",
   "nbconvert_exporter": "python",
   "pygments_lexer": "ipython3",
   "version": "3.9.12"
  }
 },
 "nbformat": 4,
 "nbformat_minor": 5
}
